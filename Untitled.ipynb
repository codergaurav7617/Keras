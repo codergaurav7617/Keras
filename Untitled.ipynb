{
 "cells": [
  {
   "cell_type": "markdown",
   "metadata": {},
   "source": [
    "# Introduction to th"
   ]
  },
  {
   "cell_type": "code",
   "execution_count": 81,
   "metadata": {},
   "outputs": [],
   "source": [
    "from keras.models import Sequential\n",
    "from keras.layers import Dense"
   ]
  },
  {
   "cell_type": "code",
   "execution_count": 82,
   "metadata": {
    "collapsed": true
   },
   "outputs": [],
   "source": [
    "#Creating a Model\n",
    "model1=Sequential()"
   ]
  },
  {
   "cell_type": "code",
   "execution_count": 83,
   "metadata": {},
   "outputs": [],
   "source": [
    "layer1=Dense(units=32,activation='relu',input_dim=30)\n",
    "model1.add(layer1)\n",
    "model1.add(Dense(units=16,activation='relu'))\n",
    "model1.add(Dense(units=1,activation='sigmoid'))"
   ]
  },
  {
   "cell_type": "code",
   "execution_count": 84,
   "metadata": {},
   "outputs": [],
   "source": [
    "#Compling model \n",
    "model1.compile(optimizer='adam',loss='binary_crossentropy',metrics=['accuracy'])"
   ]
  },
  {
   "cell_type": "code",
   "execution_count": 85,
   "metadata": {},
   "outputs": [],
   "source": [
    "from sklearn import datasets\n",
    "cancer=datasets.load_breast_cancer()\n",
    "from sklearn.model_selection import train_test_split\n",
    "x_train,x_test,y_train,y_test=train_test_split(cancer.data,cancer.target,test_size=0.2,random_state=0)\n",
    "\n",
    "from sklearn.preprocessing import StandardScaler\n",
    "sc=StandardScaler()\n",
    "x_train=sc.fit_transform(x_train)\n",
    "x_test=sc.transform(x_test)"
   ]
  },
  {
   "cell_type": "code",
   "execution_count": 86,
   "metadata": {},
   "outputs": [
    {
     "name": "stdout",
     "output_type": "stream",
     "text": [
      "Train on 455 samples, validate on 114 samples\n",
      "Epoch 1/20\n",
      "455/455 [==============================] - 0s 1ms/step - loss: 0.7939 - acc: 0.3692 - val_loss: 0.6634 - val_acc: 0.4737\n",
      "Epoch 2/20\n",
      "455/455 [==============================] - 0s 52us/step - loss: 0.6478 - acc: 0.4264 - val_loss: 0.5616 - val_acc: 0.5965\n",
      "Epoch 3/20\n",
      "455/455 [==============================] - 0s 64us/step - loss: 0.5514 - acc: 0.5956 - val_loss: 0.4882 - val_acc: 0.7632\n",
      "Epoch 4/20\n",
      "455/455 [==============================] - 0s 72us/step - loss: 0.4788 - acc: 0.7978 - val_loss: 0.4304 - val_acc: 0.8684\n",
      "Epoch 5/20\n",
      "455/455 [==============================] - 0s 64us/step - loss: 0.4211 - acc: 0.9187 - val_loss: 0.3799 - val_acc: 0.9211\n",
      "Epoch 6/20\n",
      "455/455 [==============================] - 0s 75us/step - loss: 0.3683 - acc: 0.9538 - val_loss: 0.3319 - val_acc: 0.9386\n",
      "Epoch 7/20\n",
      "455/455 [==============================] - 0s 79us/step - loss: 0.3179 - acc: 0.9670 - val_loss: 0.2840 - val_acc: 0.9298\n",
      "Epoch 8/20\n",
      "455/455 [==============================] - 0s 85us/step - loss: 0.2679 - acc: 0.9692 - val_loss: 0.2396 - val_acc: 0.9298\n",
      "Epoch 9/20\n",
      "455/455 [==============================] - 0s 58us/step - loss: 0.2221 - acc: 0.9714 - val_loss: 0.2022 - val_acc: 0.9386\n",
      "Epoch 10/20\n",
      "455/455 [==============================] - 0s 67us/step - loss: 0.1841 - acc: 0.9736 - val_loss: 0.1749 - val_acc: 0.9474\n",
      "Epoch 11/20\n",
      "455/455 [==============================] - 0s 75us/step - loss: 0.1539 - acc: 0.9736 - val_loss: 0.1525 - val_acc: 0.9474\n",
      "Epoch 12/20\n",
      "455/455 [==============================] - 0s 72us/step - loss: 0.1317 - acc: 0.9736 - val_loss: 0.1365 - val_acc: 0.9474\n",
      "Epoch 13/20\n",
      "455/455 [==============================] - 0s 52us/step - loss: 0.1153 - acc: 0.9736 - val_loss: 0.1238 - val_acc: 0.9561\n",
      "Epoch 14/20\n",
      "455/455 [==============================] - 0s 77us/step - loss: 0.1038 - acc: 0.9758 - val_loss: 0.1143 - val_acc: 0.9737\n",
      "Epoch 15/20\n",
      "455/455 [==============================] - 0s 89us/step - loss: 0.0954 - acc: 0.9758 - val_loss: 0.1066 - val_acc: 0.9737\n",
      "Epoch 16/20\n",
      "455/455 [==============================] - 0s 78us/step - loss: 0.0892 - acc: 0.9802 - val_loss: 0.0990 - val_acc: 0.9737\n",
      "Epoch 17/20\n",
      "455/455 [==============================] - 0s 69us/step - loss: 0.0833 - acc: 0.9846 - val_loss: 0.0929 - val_acc: 0.9737\n",
      "Epoch 18/20\n",
      "455/455 [==============================] - 0s 76us/step - loss: 0.0784 - acc: 0.9846 - val_loss: 0.0880 - val_acc: 0.9737\n",
      "Epoch 19/20\n",
      "455/455 [==============================] - 0s 76us/step - loss: 0.0744 - acc: 0.9868 - val_loss: 0.0833 - val_acc: 0.9649\n",
      "Epoch 20/20\n",
      "455/455 [==============================] - 0s 68us/step - loss: 0.0709 - acc: 0.9868 - val_loss: 0.0792 - val_acc: 0.9649\n"
     ]
    },
    {
     "data": {
      "text/plain": [
       "<keras.callbacks.History at 0x7f8a1fea6b38>"
      ]
     },
     "execution_count": 86,
     "metadata": {},
     "output_type": "execute_result"
    }
   ],
   "source": [
    "#fiting model \n",
    "model1.fit(x_train,y_train,epochs=20,batch_size=50,validation_data=(x_test,y_test))"
   ]
  },
  {
   "cell_type": "code",
   "execution_count": 91,
   "metadata": {},
   "outputs": [
    {
     "name": "stdout",
     "output_type": "stream",
     "text": [
      "114/114 [==============================] - 0s 72us/step\n"
     ]
    },
    {
     "data": {
      "text/plain": [
       "[0.079245541963660932, 0.96491227651897227]"
      ]
     },
     "execution_count": 91,
     "metadata": {},
     "output_type": "execute_result"
    }
   ],
   "source": [
    "# prediction and evaluation\n",
    "prediction=model1.predict(x_test)\n",
    "score=model1.evaluate(x_test,y_test)\n",
    "score"
   ]
  }
 ],
 "metadata": {
  "kernelspec": {
   "display_name": "Python 3",
   "language": "python",
   "name": "python3"
  },
  "language_info": {
   "codemirror_mode": {
    "name": "ipython",
    "version": 3
   },
   "file_extension": ".py",
   "mimetype": "text/x-python",
   "name": "python",
   "nbconvert_exporter": "python",
   "pygments_lexer": "ipython3",
   "version": "3.6.3"
  }
 },
 "nbformat": 4,
 "nbformat_minor": 2
}
